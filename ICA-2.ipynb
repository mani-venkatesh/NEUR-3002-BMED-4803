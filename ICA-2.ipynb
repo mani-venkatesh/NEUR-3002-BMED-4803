{
 "cells": [
  {
   "cell_type": "markdown",
   "metadata": {},
   "source": [
    "## **In Class Participation #2**"
   ]
  },
  {
   "cell_type": "markdown",
   "metadata": {},
   "source": [
    "#### **Group 4: Mani, Vibha, Cambell, Pooja, Mackenzie**"
   ]
  },
  {
   "cell_type": "markdown",
   "metadata": {},
   "source": [
    "__Define Terms__\n",
    "1. **Temporal Codes**: Spike train encoding using different timing of firing patterns \n",
    "2. **Rate Codes**: Average firing rate of spike train across trials \n",
    "3. **Latency Codes**: Encoding based on the first spike time\n",
    "4. **Synchrony Code**: Encoding based on coincident spikes in different neurons locally\n",
    "5. **Population Code**: An encoding method that combines information from other neurons \n",
    "6. **Tuning Curve**: Graphical representation is an outcome of all these curves "
   ]
  },
  {
   "cell_type": "markdown",
   "metadata": {},
   "source": [
    "__Compare and Contrast__\n",
    "Temporal codes involve encoding information through the timing of firing patterns, relying on the temporal relationships of spikes. Rate codes, on the other hand, represent information by averaging the firing rate across trials, providing a more stable but less temporally precise encoding. Latency codes focus on the first spike time as a key factor in information representation. Synchrony codes depend on coincident spikes in different neurons locally, emphasizing synchronized activity. Population codes amalgamate information from multiple neurons to create a comprehensive representation. Tuning curves serve as graphical outcomes that illustrate the characteristics of these coding mechanisms, offering insights into how neurons respond to varying stimuli. Each coding method has its advantages and limitations, with temporal codes providing detailed timing information, rate codes offering robustness, and population codes combining inputs for a holistic representation."
   ]
  }
 ],
 "metadata": {
  "language_info": {
   "name": "python"
  }
 },
 "nbformat": 4,
 "nbformat_minor": 2
}
